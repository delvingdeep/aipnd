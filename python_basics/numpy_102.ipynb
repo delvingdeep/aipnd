{
 "cells": [
  {
   "cell_type": "markdown",
   "metadata": {},
   "source": [
    "### NumPy Practice"
   ]
  },
  {
   "cell_type": "code",
   "execution_count": 2,
   "metadata": {
    "collapsed": true
   },
   "outputs": [],
   "source": [
    "import numpy as np"
   ]
  },
  {
   "cell_type": "code",
   "execution_count": 7,
   "metadata": {},
   "outputs": [
    {
     "name": "stdout",
     "output_type": "stream",
     "text": [
      "ans = \n",
      " [[ 2  4  6  8]\n",
      " [10 12 14 16]\n",
      " [18 20 22 24]\n",
      " [26 28 30 32]]\n",
      "\n",
      "Dimension of ans:  (4, 4)\n"
     ]
    }
   ],
   "source": [
    "# Create a 4 x 4 ndarray of all even numbers from 2 to 32 (inclusive)\n",
    "a1 = np.arange(2,33,2).reshape(4,4)\n",
    "print('ans = \\n',a1)\n",
    "print()\n",
    "print('Dimension of ans: ', a1.shape)"
   ]
  },
  {
   "cell_type": "markdown",
   "metadata": {},
   "source": [
    "##### NumPy array slicling"
   ]
  },
  {
   "cell_type": "code",
   "execution_count": 9,
   "metadata": {},
   "outputs": [
    {
     "name": "stdout",
     "output_type": "stream",
     "text": [
      "[1 2 3 4 5]\n",
      "\n",
      "First element in a2:  1\n",
      "Second element in a2:  2\n",
      "Fifth element in a2:  5\n",
      "Last element in a2:  5\n",
      "\n",
      "Last element in a2: 5\n",
      "Second elment in a2:  2\n",
      "First element in a2:  1\n"
     ]
    }
   ],
   "source": [
    "# Create a rank 1 ndarray\n",
    "a2 = np.array([1,2,3,4,5])\n",
    "\n",
    "print(a2)\n",
    "print()\n",
    "\n",
    "# Access elements with positive indices\n",
    "print(\"First element in a2: \", a2[0])\n",
    "print(\"Second element in a2: \", a2[1])\n",
    "print(\"Fifth element in a2: \", a2[4])\n",
    "print(\"Last element in a2: \", a2[len(a2)-1])\n",
    "\n",
    "print()\n",
    "\n",
    "# Access same elements with negative indices\n",
    "print(\"Last element in a2:\", a2[-1])\n",
    "print(\"Second elment in a2: \", a2[-4])\n",
    "print(\"First element in a2: \", a2[-5])"
   ]
  },
  {
   "cell_type": "markdown",
   "metadata": {},
   "source": [
    "##### NumPy arrays are mutable"
   ]
  },
  {
   "cell_type": "code",
   "execution_count": 12,
   "metadata": {},
   "outputs": [
    {
     "name": "stdout",
     "output_type": "stream",
     "text": [
      "Array \n",
      " a2:  [ 1  2  3 90  5]\n",
      "\n",
      "Modified array \n",
      " a2:  [ 1  2  3 90  5]\n"
     ]
    }
   ],
   "source": [
    "print(\"Array \\n a2: \", a2)\n",
    "\n",
    "print()\n",
    "\n",
    "# Modify 4th element of the above array\n",
    "a2[3] = 90\n",
    "\n",
    "print(\"Modified array \\n a2: \", a2)"
   ]
  },
  {
   "cell_type": "code",
   "execution_count": 20,
   "metadata": {},
   "outputs": [
    {
     "name": "stdout",
     "output_type": "stream",
     "text": [
      "\n",
      "Element (0,2) of array \n",
      " a3: 3\n",
      "\n",
      "Array \n",
      " a3: \n",
      " [[1 2 3]\n",
      " [4 5 6]\n",
      " [7 8 9]]\n",
      "\n",
      "Modified array \n",
      " a3: \n",
      " [[ 1  2  3]\n",
      " [ 4  5  6]\n",
      " [ 7 21  9]]\n"
     ]
    }
   ],
   "source": [
    "# Create a rank 2 ndarray\n",
    "a3 = np.array([[1,2,3],[4,5,6],[7,8,9]])\n",
    "\n",
    "print()\n",
    "\n",
    "# Slice an element from rank 2 array\n",
    "print('Element (0,2) of array \\n a3:', a3[0,2])\n",
    "\n",
    "print()\n",
    "\n",
    "print('Array \\n a3: \\n', a3)\n",
    "\n",
    "print()\n",
    "\n",
    "# Modify content of above array\n",
    "a3[2,1] = 21\n",
    "\n",
    "print(\"Modified array \\n a3: \\n\", a3)"
   ]
  },
  {
   "cell_type": "code",
   "execution_count": 4,
   "metadata": {},
   "outputs": [
    {
     "name": "stdout",
     "output_type": "stream",
     "text": [
      "a4:  [ 1  2  3  4  5  6  7  8  9 10 11 12 13 14 15 16 17 18 19 20]\n",
      "a4[3:] =  [ 4  5  6  7  8  9 10 11 12 13 14 15 16 17 18 19 20]\n",
      "a4[:7] =  [1 2 3 4 5 6 7]\n",
      "a4[3:20] =  [ 1  2  3  4  5  6  7  8  9 10 11 12 13 14 15 16 17 18 19 20]\n"
     ]
    }
   ],
   "source": [
    "# Create rank 1 ndarray\n",
    "a4 = np.arange(1,21)\n",
    "\n",
    "print(\"a4: \", a4)\n",
    "\n",
    "print(\"a4[3:] = \", a4[3:])\n",
    "print(\"a4[:7] = \", a4[:7])\n",
    "print(\"a4[3:20] = \", a4[0:20])"
   ]
  },
  {
   "cell_type": "code",
   "execution_count": 23,
   "metadata": {},
   "outputs": [
    {
     "name": "stdout",
     "output_type": "stream",
     "text": [
      "a5 =\n",
      " [[ 0  1  2  3  4]\n",
      " [ 5  6  7  8  9]\n",
      " [10 11 12 13 14]\n",
      " [15 16 17 18 19]]\n",
      "\n",
      "a51 = \n",
      " [[ 7  8  9]\n",
      " [12 13 14]\n",
      " [17 18 19]]\n",
      "\n",
      "a52 =\n",
      " [[ 7  8  9]\n",
      " [12 13 14]\n",
      " [17 18 19]]\n",
      "\n",
      "a53 =\n",
      " [[ 2  3]\n",
      " [ 7  8]\n",
      " [12 13]]\n",
      "\n",
      "a54 = [10 11 12 13 14]\n",
      "\n",
      "a55 = [ 2  7 12 17]\n",
      "\n",
      "a56 =\n",
      " [[ 2]\n",
      " [ 7]\n",
      " [12]\n",
      " [17]]\n",
      "a5 =\n",
      " [[ 0  1  2  3  4]\n",
      " [ 5  6  7  8  9]\n",
      " [10 11 12 13 14]\n",
      " [15 16 17 18 19]]\n"
     ]
    }
   ],
   "source": [
    "# Create a rank 2 array\n",
    "\n",
    "a5 = np.arange(20).reshape(4,5)\n",
    "\n",
    "print(\"a5 =\\n\", a5)\n",
    "print()\n",
    "\n",
    "# Select all the elements that are in 2nd through 4th rows and 3rd through 4th columns\n",
    "a51 = a5[1:4,2:5]    # [row,cloumn], also end indices are exclusive\n",
    "\n",
    "print(\"a51 = \\n\", a51)\n",
    "print()\n",
    "\n",
    "a52 = a5[1:,2:5]   # second method\n",
    "print(\"a52 =\\n\", a52)\n",
    "print()\n",
    "\n",
    "# Select all the elements from 1st through 3rd row and 2nd through 4th column\n",
    "a53 = a5[:3,2:4]\n",
    "print(\"a53 =\\n\", a53)\n",
    "print()\n",
    "\n",
    "# Select all the elements in 3rd row\n",
    "a54 = a5[2,:]\n",
    "print(\"a54 =\", a54)\n",
    "print()\n",
    "\n",
    "# Select all the elements in 3rd column\n",
    "a55 = a5[:,2]\n",
    "print(\"a55 =\", a55)\n",
    "print()\n",
    "\n",
    "# Select all the elements from 3rd column but with a rank 2 array\n",
    "a56 = a5[:, 2:3]\n",
    "print(\"a56 =\\n\", a56)\n",
    "print(\"a5 =\\n\", a5)"
   ]
  },
  {
   "cell_type": "code",
   "execution_count": 24,
   "metadata": {},
   "outputs": [
    {
     "name": "stdout",
     "output_type": "stream",
     "text": [
      "a6 =\n",
      " [[ 0  1  2  3  4]\n",
      " [ 5  6  7  8  9]\n",
      " [10 11 12 13 14]\n",
      " [15 16 17 18 19]]\n",
      "\n",
      "a61 =\n",
      " [[ 7  8  9]\n",
      " [12 13 14]\n",
      " [17 18 19]]\n",
      "\n",
      "a61 =\n",
      " [[  7   8   9]\n",
      " [ 12  13  14]\n",
      " [ 17  18 222]]\n",
      "\n",
      "a6 =\n",
      " [[  0   1   2   3   4]\n",
      " [  5   6   7   8   9]\n",
      " [ 10  11  12  13  14]\n",
      " [ 15  16  17  18 222]]\n"
     ]
    }
   ],
   "source": [
    "# Create a 4 x 5 ndarray\n",
    "a6 = np.arange(20).reshape(4,5)\n",
    "\n",
    "print(\"a6 =\\n\", a6)\n",
    "print()\n",
    "\n",
    "# Select all the elements that are in 2nd through 4th rows and 3rd through 4th columns\n",
    "a61 = a6[1:4,2:5]\n",
    "\n",
    "print(\"a61 =\\n\", a61)\n",
    "print()\n",
    "\n",
    "# Change last element of the above array\n",
    "a61[2,2] = 222\n",
    "\n",
    "print(\"a61 =\\n\", a61)\n",
    "print()\n",
    "print(\"a6 =\\n\", a6)   \n",
    "# array slicing doesn't copy all the elements to new array, it's just different name for the same array"
   ]
  },
  {
   "cell_type": "code",
   "execution_count": null,
   "metadata": {
    "collapsed": true
   },
   "outputs": [],
   "source": []
  }
 ],
 "metadata": {
  "kernelspec": {
   "display_name": "Python 3",
   "language": "python",
   "name": "python3"
  },
  "language_info": {
   "codemirror_mode": {
    "name": "ipython",
    "version": 3
   },
   "file_extension": ".py",
   "mimetype": "text/x-python",
   "name": "python",
   "nbconvert_exporter": "python",
   "pygments_lexer": "ipython3",
   "version": "3.6.3"
  }
 },
 "nbformat": 4,
 "nbformat_minor": 2
}
