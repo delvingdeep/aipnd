{
 "cells": [
  {
   "cell_type": "code",
   "execution_count": 47,
   "metadata": {},
   "outputs": [
    {
     "data": {
      "text/plain": [
       "'Python basics: Data types and Operators'"
      ]
     },
     "execution_count": 47,
     "metadata": {},
     "output_type": "execute_result"
    }
   ],
   "source": [
    "'''Python basics: Data types and Operators'''"
   ]
  },
  {
   "cell_type": "code",
   "execution_count": 2,
   "metadata": {},
   "outputs": [
    {
     "name": "stdout",
     "output_type": "stream",
     "text": [
      "9\n"
     ]
    }
   ],
   "source": [
    "print(3**2)  # power to the number , exponentiation"
   ]
  },
  {
   "cell_type": "code",
   "execution_count": 3,
   "metadata": {},
   "outputs": [
    {
     "name": "stdout",
     "output_type": "stream",
     "text": [
      "1\n"
     ]
    }
   ],
   "source": [
    "print(3//2)  # integer division"
   ]
  },
  {
   "cell_type": "code",
   "execution_count": 4,
   "metadata": {},
   "outputs": [
    {
     "name": "stdout",
     "output_type": "stream",
     "text": [
      "-2\n"
     ]
    }
   ],
   "source": [
    "print(-3//2)"
   ]
  },
  {
   "cell_type": "code",
   "execution_count": 5,
   "metadata": {},
   "outputs": [
    {
     "name": "stdout",
     "output_type": "stream",
     "text": [
      "1.5\n"
     ]
    }
   ],
   "source": [
    "print(3/2)"
   ]
  },
  {
   "cell_type": "code",
   "execution_count": 6,
   "metadata": {},
   "outputs": [
    {
     "name": "stdout",
     "output_type": "stream",
     "text": [
      "2\n"
     ]
    }
   ],
   "source": [
    "print(89%3)  # modulo operator"
   ]
  },
  {
   "cell_type": "code",
   "execution_count": 7,
   "metadata": {},
   "outputs": [
    {
     "name": "stdout",
     "output_type": "stream",
     "text": [
      "16\n"
     ]
    }
   ],
   "source": [
    "print(8*2)"
   ]
  },
  {
   "cell_type": "code",
   "execution_count": 8,
   "metadata": {},
   "outputs": [
    {
     "name": "stdout",
     "output_type": "stream",
     "text": [
      "10\n"
     ]
    }
   ],
   "source": [
    "print(8^2)  #bitwsie OR"
   ]
  },
  {
   "cell_type": "code",
   "execution_count": 9,
   "metadata": {},
   "outputs": [
    {
     "name": "stdout",
     "output_type": "stream",
     "text": [
      "4.0\n",
      "2.0\n"
     ]
    }
   ],
   "source": [
    "x=4\n",
    "y=4.\n",
    "z=4.0\n",
    "w=4/2\n",
    "print(z)\n",
    "print(w)"
   ]
  },
  {
   "cell_type": "code",
   "execution_count": 10,
   "metadata": {},
   "outputs": [
    {
     "data": {
      "text/plain": [
       "int"
      ]
     },
     "execution_count": 10,
     "metadata": {},
     "output_type": "execute_result"
    }
   ],
   "source": [
    "type(x)"
   ]
  },
  {
   "cell_type": "code",
   "execution_count": 11,
   "metadata": {},
   "outputs": [
    {
     "data": {
      "text/plain": [
       "float"
      ]
     },
     "execution_count": 11,
     "metadata": {},
     "output_type": "execute_result"
    }
   ],
   "source": [
    "type(y)"
   ]
  },
  {
   "cell_type": "code",
   "execution_count": 12,
   "metadata": {},
   "outputs": [
    {
     "name": "stdout",
     "output_type": "stream",
     "text": [
      "2\n"
     ]
    }
   ],
   "source": [
    "print(int(w))"
   ]
  },
  {
   "cell_type": "code",
   "execution_count": 13,
   "metadata": {},
   "outputs": [
    {
     "name": "stdout",
     "output_type": "stream",
     "text": [
      "0.30000000000000004\n"
     ]
    }
   ],
   "source": [
    "print(0.1+0.1+0.1)"
   ]
  },
  {
   "cell_type": "code",
   "execution_count": 14,
   "metadata": {},
   "outputs": [
    {
     "ename": "ZeroDivisionError",
     "evalue": "division by zero",
     "output_type": "error",
     "traceback": [
      "\u001b[0;31m---------------------------------------------------------------------------\u001b[0m",
      "\u001b[0;31mZeroDivisionError\u001b[0m                         Traceback (most recent call last)",
      "\u001b[0;32m<ipython-input-14-088837ec778c>\u001b[0m in \u001b[0;36m<module>\u001b[0;34m()\u001b[0m\n\u001b[1;32m      1\u001b[0m \u001b[0;31m# Exception is a problem that occurs when the code is running\u001b[0m\u001b[0;34m\u001b[0m\u001b[0;34m\u001b[0m\u001b[0m\n\u001b[1;32m      2\u001b[0m \u001b[0;31m# Syntax Error is a problem detected when Python checks the code before it runs it\u001b[0m\u001b[0;34m\u001b[0m\u001b[0;34m\u001b[0m\u001b[0m\n\u001b[0;32m----> 3\u001b[0;31m \u001b[0mprint\u001b[0m\u001b[0;34m(\u001b[0m\u001b[0;36m5\u001b[0m\u001b[0;34m/\u001b[0m\u001b[0;36m0\u001b[0m\u001b[0;34m)\u001b[0m\u001b[0;34m\u001b[0m\u001b[0m\n\u001b[0m",
      "\u001b[0;31mZeroDivisionError\u001b[0m: division by zero"
     ]
    }
   ],
   "source": [
    "\"\"\"\n",
    "Exception is a problem that occurs when the code is running\n",
    "Syntax Error is a problem detected when Python checks the code before it runs it\n",
    "\"\"\"\n",
    "print(5/0)"
   ]
  },
  {
   "cell_type": "code",
   "execution_count": 15,
   "metadata": {},
   "outputs": [
    {
     "name": "stdout",
     "output_type": "stream",
     "text": [
      "False\n",
      "True\n",
      "True\n"
     ]
    }
   ],
   "source": [
    "print(5<=2)\n",
    "print(5==5)\n",
    "print(3<7)"
   ]
  },
  {
   "cell_type": "code",
   "execution_count": 16,
   "metadata": {},
   "outputs": [
    {
     "name": "stdout",
     "output_type": "stream",
     "text": [
      "x equals 6\n"
     ]
    }
   ],
   "source": [
    "x=6\n",
    "if x>5 and x<7:\n",
    "    print(\"x equals 6\")"
   ]
  },
  {
   "cell_type": "code",
   "execution_count": 17,
   "metadata": {},
   "outputs": [
    {
     "data": {
      "text/plain": [
       "str"
      ]
     },
     "execution_count": 17,
     "metadata": {},
     "output_type": "execute_result"
    }
   ],
   "source": [
    "#### Strings\n",
    "'''string is declared with single or double quotes'''\n",
    "\n",
    "message = \"Hello World!\"\n",
    "type(message)"
   ]
  },
  {
   "cell_type": "code",
   "execution_count": 18,
   "metadata": {},
   "outputs": [
    {
     "name": "stdout",
     "output_type": "stream",
     "text": [
      "Hello World\n",
      "HelloHelloHelloHello\n",
      "10\n"
     ]
    }
   ],
   "source": [
    "str1 = \"Hello\"\n",
    "str2 = 'World'\n",
    "print(str1 + ' ' + str2)\n",
    "print(str1*4)\n",
    "print(len(str2*2))"
   ]
  },
  {
   "cell_type": "code",
   "execution_count": 19,
   "metadata": {},
   "outputs": [
    {
     "name": "stdout",
     "output_type": "stream",
     "text": [
      "Deep Doshi\n",
      "Deep doshi\n",
      "True\n",
      "4\n",
      "There are 4 moons in the above string message\n",
      "Hello there, Python is fun!\n",
      "False\n"
     ]
    }
   ],
   "source": [
    "# methods\n",
    "print(\"deep doshi\".title())\n",
    "print(\"deep doshi\".capitalize())\n",
    "\n",
    "caps_message = \"hello\"\n",
    "print(caps_message.islower())\n",
    "\n",
    "count_message = \"red moon, blue moon, super moon, full moon\"\n",
    "print(count_message.count('moon'))\n",
    "\n",
    "print(\"There are {} moons in the above string message\".format(4))\n",
    "\n",
    "message1 = \"there\"\n",
    "message2 = \"Python\"\n",
    "print(\"Hello {}, {} is fun!\".format(message1, message2))\n",
    "\n",
    "float1 = 13.3\n",
    "print(float1.is_integer())"
   ]
  },
  {
   "cell_type": "code",
   "execution_count": 20,
   "metadata": {},
   "outputs": [
    {
     "data": {
      "text/plain": [
       "['Hello', 'there,', 'Python', 'is', 'fun']"
      ]
     },
     "execution_count": 20,
     "metadata": {},
     "output_type": "execute_result"
    }
   ],
   "source": [
    "# more methods\n",
    "\n",
    "# split() method works on strings to give out a list\n",
    "str_obj = \"Hello there, Python is fun\"\n",
    "str_obj.split()"
   ]
  },
  {
   "cell_type": "code",
   "execution_count": 21,
   "metadata": {},
   "outputs": [
    {
     "data": {
      "text/plain": [
       "['Hello', 'there,', 'Python', 'is fun']"
      ]
     },
     "execution_count": 21,
     "metadata": {},
     "output_type": "execute_result"
    }
   ],
   "source": [
    "str_obj = \"Hello there, Python is fun\"\n",
    "str_obj.split(' ', 3)"
   ]
  },
  {
   "cell_type": "code",
   "execution_count": 22,
   "metadata": {},
   "outputs": [
    {
     "data": {
      "text/plain": [
       "['Hello there, Python is fun', '']"
      ]
     },
     "execution_count": 22,
     "metadata": {},
     "output_type": "execute_result"
    }
   ],
   "source": [
    "str_obj = \"Hello there, Python is fun.\"\n",
    "str_obj.split('.')"
   ]
  },
  {
   "cell_type": "code",
   "execution_count": 23,
   "metadata": {},
   "outputs": [
    {
     "name": "stdout",
     "output_type": "stream",
     "text": [
      "12\n",
      "April\n",
      "December\n",
      "December\n",
      "4\n",
      "more stuff\n",
      "[384]\n",
      "[384, 6, 'more stuff']\n",
      "['May', 'June', 'July', 'August', 'September', 'October', 'November', 'December']\n",
      "['January', 'Februray', 'March', 'April']\n",
      "True\n",
      "False\n",
      "False\n"
     ]
    }
   ],
   "source": [
    "#### Lists\n",
    "\"\"\"\n",
    "Lists can contain any mix and match of the data types. Lists are mutable.\n",
    "\"\"\"\n",
    "\n",
    "months = ['January', 'Februray', 'March', 'April', 'May', 'June', 'July', 'August', 'September', 'October', 'November', 'December']\n",
    "print(len(months))\n",
    "print(months[3])\n",
    "print(months[-1])\n",
    "print(months[len(months)-1])\n",
    "\n",
    "random_list = ['some stuff', 384, x, 'more stuff']\n",
    "print(len(random_list))\n",
    "print(random_list[3])\n",
    "\n",
    "# slicing in list\n",
    "\n",
    "print(random_list[1:2]) # lower index is inclusive and upper index is exclusive\n",
    "print(random_list[1:])\n",
    "print(months[4:])\n",
    "print(months[:4])\n",
    "\n",
    "number_list = [1, 2, 3, 4, 5, 6, 7, 8]\n",
    "print(5 in number_list)\n",
    "print(5 not in number_list)\n",
    "print(10 in number_list)"
   ]
  },
  {
   "cell_type": "code",
   "execution_count": 24,
   "metadata": {},
   "outputs": [
    {
     "name": "stdout",
     "output_type": "stream",
     "text": [
      "[1, 2, 3, 4, 5, 6, 7, 8]\n",
      "[1, 2, 2, 4, 'four', 6, 7, 8]\n"
     ]
    }
   ],
   "source": [
    "# mutability in lists\n",
    "print(number_list)\n",
    "\n",
    "number_list[2] = 2\n",
    "number_list[4] = 'four'\n",
    "print(number_list)\n",
    "\n",
    "# lists are mutable unlike strings"
   ]
  },
  {
   "cell_type": "code",
   "execution_count": 25,
   "metadata": {},
   "outputs": [
    {
     "name": "stdout",
     "output_type": "stream",
     "text": [
      "string1: second\n",
      "string2: first\n",
      "list1: ['one', 'two', 'two', 'four', 'five']\n",
      "list2: ['one', 'two', 'two', 'four', 'five']\n"
     ]
    }
   ],
   "source": [
    "string1 = \"first\"\n",
    "string2 = string1\n",
    "string1 = \"second\"\n",
    "\n",
    "print(\"string1: \" + string1)\n",
    "print(\"string2: \" + string2)\n",
    "\n",
    "list1 = ['one', 'two', 'three', 'four', 'five']\n",
    "list2 = list1\n",
    "list1[2] = 'two'\n",
    "\n",
    "print(\"list1: \" + str(list1))\n",
    "print(\"list2: \" + str(list2))\n",
    "\n",
    "# changes in a string doesn't affect other strings, where as variable holds the list itself and not just the values"
   ]
  },
  {
   "cell_type": "code",
   "execution_count": 38,
   "metadata": {},
   "outputs": [
    {
     "name": "stdout",
     "output_type": "stream",
     "text": [
      "Length of string1 = 6\n",
      "Length of list1 = 4\n",
      "Max value in string1 = s\n",
      "Max value in list1 = two\n",
      "list1: ['two', 'two', 'four', 'five']\n",
      "list3: ['five', 'four', 'two', 'two']\n",
      "new_list type:  <class 'str'>\n",
      "two\n",
      "two\n",
      "four\n",
      "five\n",
      "two-two-four-five\n"
     ]
    }
   ],
   "source": [
    "print(\"Length of string1 = \" + str(len(string1)))\n",
    "print(\"Length of list1 = \" + str(len(list1)))\n",
    "\n",
    "print(\"Max value in string1 = \" + max(string1))  # follows '>'if its a number else alphabetical order if its a string\n",
    "print(\"Max value in list1 = \" + max(list1))     # follows alphabetcial sorting of element and gives max element\n",
    "\n",
    "list3 = sorted(list1)    # sorted() method gives a copy of sorted list\n",
    "print(\"list1: \" + str(list1))\n",
    "print(\"list3: \" + str(list3))\n",
    "\n",
    "new_list = (\"\\n\".join(list1))\n",
    "newest_list = (\"-\".join(list2))\n",
    "print(\"new_list type: \", end=\" \")\n",
    "print(type(new_list))\n",
    "print(new_list)\n",
    "print(newest_list)\n",
    "\n"
   ]
  },
  {
   "cell_type": "code",
   "execution_count": 39,
   "metadata": {},
   "outputs": [
    {
     "ename": "TypeError",
     "evalue": "sequence item 1: expected str instance, int found",
     "output_type": "error",
     "traceback": [
      "\u001b[0;31m---------------------------------------------------------------------------\u001b[0m",
      "\u001b[0;31mTypeError\u001b[0m                                 Traceback (most recent call last)",
      "\u001b[0;32m<ipython-input-39-7cc4f27678e3>\u001b[0m in \u001b[0;36m<module>\u001b[0;34m()\u001b[0m\n\u001b[1;32m      1\u001b[0m \u001b[0mrandom_list\u001b[0m \u001b[0;34m=\u001b[0m \u001b[0;34m[\u001b[0m\u001b[0;34m'right'\u001b[0m\u001b[0;34m,\u001b[0m \u001b[0;36m1\u001b[0m\u001b[0;34m,\u001b[0m \u001b[0;36m3\u001b[0m\u001b[0;34m,\u001b[0m \u001b[0;34m'left'\u001b[0m\u001b[0;34m,\u001b[0m \u001b[0;34m'center'\u001b[0m\u001b[0;34m,\u001b[0m \u001b[0;36m5.6\u001b[0m\u001b[0;34m]\u001b[0m\u001b[0;34m\u001b[0m\u001b[0m\n\u001b[0;32m----> 2\u001b[0;31m \u001b[0mprint\u001b[0m\u001b[0;34m(\u001b[0m\u001b[0;34m\"-\"\u001b[0m\u001b[0;34m.\u001b[0m\u001b[0mjoin\u001b[0m\u001b[0;34m(\u001b[0m\u001b[0mrandom_list\u001b[0m\u001b[0;34m)\u001b[0m\u001b[0;34m)\u001b[0m\u001b[0;34m\u001b[0m\u001b[0m\n\u001b[0m",
      "\u001b[0;31mTypeError\u001b[0m: sequence item 1: expected str instance, int found"
     ]
    }
   ],
   "source": [
    "random_list = ['right', 1, 3, 'left', 'center', 5.6]  # join() method only works with string elements\n",
    "print(\"-\".join(random_list))"
   ]
  },
  {
   "cell_type": "code",
   "execution_count": 40,
   "metadata": {},
   "outputs": [
    {
     "name": "stdout",
     "output_type": "stream",
     "text": [
      "['two', 'two', 'four', 'five']\n",
      "['two', 'four', 'five']\n",
      "['two', 'four', 'five', 'one']\n"
     ]
    }
   ],
   "source": [
    "print(list1)\n",
    "del list1[0]\n",
    "print(list1)\n",
    "\n",
    "list1.append('one')   #adds element at the end of the list\n",
    "print(list1)"
   ]
  },
  {
   "cell_type": "code",
   "execution_count": 46,
   "metadata": {},
   "outputs": [
    {
     "name": "stdout",
     "output_type": "stream",
     "text": [
      "location variable data type:  <class 'tuple'>\n",
      "Location x:  35.2345\n",
      "Location y:  45.5678\n"
     ]
    }
   ],
   "source": [
    "#### Tuples\n",
    "\"\"\"\n",
    "Tuples are data type for immutable ordered sequences of elements, and used to store related pieces of information.\n",
    "Tuples are immutable.\n",
    "\"\"\"\n",
    "location = (35.2345, 45.5678)\n",
    "print(\"location variable data type: \", end=\" \")\n",
    "print(type(location))\n",
    "\n",
    "print(\"Location x: \", location[0])\n",
    "print(\"Location y: \", location[1])\n"
   ]
  },
  {
   "cell_type": "code",
   "execution_count": 51,
   "metadata": {},
   "outputs": [
    {
     "name": "stdout",
     "output_type": "stream",
     "text": [
      "dimension data type:  <class 'tuple'>\n",
      "(45, 56, 79)\n",
      "length data type:  <class 'int'>\n",
      "45\n",
      "56\n",
      "79\n",
      "The dimensions are 45x56x79\n"
     ]
    }
   ],
   "source": [
    "dimension = 45, 56, 79     # parantheses are optional\n",
    "\n",
    "print(\"dimension data type: \", end=\" \")\n",
    "print(type(dimension))\n",
    "\n",
    "print(dimension)\n",
    "\n",
    "# tuple unpacking\n",
    "length, width, height = dimension\n",
    "print(\"length data type: \", end=\" \")\n",
    "print(type(length))\n",
    "\n",
    "print(length)\n",
    "print(width)\n",
    "print(height)\n",
    "\n",
    "print(\"The dimensions are {}x{}x{}\".format(length, width, height))"
   ]
  },
  {
   "cell_type": "code",
   "execution_count": 54,
   "metadata": {},
   "outputs": [
    {
     "name": "stdout",
     "output_type": "stream",
     "text": [
      "numbers variable datatype:  <class 'list'>\n",
      "[1, 2, 3, 4, 1, 2, 5, 6, 7, 8, 9, 10, 229, 54, 56, 3, 4, 5]\n",
      "length for numbers:  18\n",
      "------\n",
      "set_of_numbers variable datatype:  <class 'set'>\n",
      "{1, 2, 3, 4, 5, 6, 7, 8, 9, 10, 229, 54, 56}\n",
      "length for set_of_numbers:  13\n"
     ]
    }
   ],
   "source": [
    "##### Sets\n",
    "'''\n",
    "Set is a datatype for mutable unordered collections of unique elements. Set removes duplicate elements\n",
    "'''\n",
    "numbers = [1, 2, 3, 4, 1, 2, 5, 6, 7, 8, 9, 10, 229, 54, 56, 3, 4, 5]\n",
    "set_of_numbers = set(numbers)\n",
    "\n",
    "print(\"numbers variable datatype: \", end=\" \")\n",
    "print(type(numbers))\n",
    "print(numbers)\n",
    "print(\"length for numbers: \", end=\" \")\n",
    "print(len(numbers))\n",
    "\n",
    "print(\"------\")\n",
    "\n",
    "print(\"set_of_numbers variable datatype: \", end=\" \")\n",
    "print(type(set_of_numbers))\n",
    "print(set_of_numbers)\n",
    "print(\"length for set_of_numbers: \", end=\" \")\n",
    "print(len(set_of_numbers))"
   ]
  },
  {
   "cell_type": "code",
   "execution_count": 67,
   "metadata": {},
   "outputs": [
    {
     "name": "stdout",
     "output_type": "stream",
     "text": [
      "{'red', 'blue', 'black', 'green', 'pink'}\n",
      "True\n",
      "True\n",
      "True\n",
      "False\n",
      "{'red', 'blue', 'black', 'green', 'pink', 'grey'}\n",
      "True\n",
      "red\n",
      "{'blue', 'black', 'green', 'pink', 'grey'}\n"
     ]
    }
   ],
   "source": [
    "colors = {\"blue\", \"green\", \"black\", \"red\", \"pink\", \"blue\"}\n",
    "print(colors)\n",
    "\n",
    "print(2 in numbers)\n",
    "\n",
    "print(\"green\" in colors)   # set supports in operator\n",
    "print(\"blue\" in colors)\n",
    "print(\"grey\" in colors)\n",
    "\n",
    "colors.add(\"grey\")    # adds an element to the set\n",
    "print(colors)\n",
    "print(\"grey\" in colors)\n",
    "\n",
    "print(colors.pop())   # pops a random element\n",
    "print(colors)"
   ]
  },
  {
   "cell_type": "code",
   "execution_count": 68,
   "metadata": {},
   "outputs": [
    {
     "name": "stdout",
     "output_type": "stream",
     "text": [
      "{'green', 'pink', 'grey', 'silver', 'red', 'brown', 'blue', 'black'}\n",
      "{'green', 'grey', 'pink', 'black'}\n",
      "{'blue'}\n",
      "{'silver', 'red', 'black', 'green', 'pink', 'grey', 'brown'}\n"
     ]
    }
   ],
   "source": [
    "colors2 = {\"blue\", \"red\", \"brown\", \"silver\"}\n",
    "\n",
    "print(colors | colors2)   # union of sets; elements in set1 or set2\n",
    "print(colors - colors2)   # elements in set1 but not in set2  \n",
    "print(colors & colors2)   # elememts in both sets\n",
    "print(colors ^ colors2)   # elements in set1 or set2 but not in both"
   ]
  },
  {
   "cell_type": "code",
   "execution_count": 69,
   "metadata": {},
   "outputs": [
    {
     "name": "stdout",
     "output_type": "stream",
     "text": [
      "<class 'dict'>\n",
      "{'one': 1, 'two': 2, 'three': 3, 'ten': 10}\n"
     ]
    }
   ],
   "source": [
    "#### Dictionary\n",
    "\"\"\"\n",
    "A dictionary is a mutable data type that stores mappings of unique keys to values.\n",
    "Dictionary keys must be immutable.\n",
    "\"\"\"\n",
    "\n",
    "elements={\"one\":1, \"two\":2, \"three\":3, \"ten\":10}\n",
    "\n",
    "print(type(elements))\n",
    "print(elements)"
   ]
  },
  {
   "cell_type": "code",
   "execution_count": 72,
   "metadata": {},
   "outputs": [
    {
     "name": "stdout",
     "output_type": "stream",
     "text": [
      "10\n",
      "5\n"
     ]
    }
   ],
   "source": [
    "print(elements[\"ten\"])  # print value mapped to the element\n",
    "\n",
    "elements[\"ten\"]=5\n",
    "print(elements[\"ten\"])"
   ]
  },
  {
   "cell_type": "code",
   "execution_count": 78,
   "metadata": {},
   "outputs": [
    {
     "name": "stdout",
     "output_type": "stream",
     "text": [
      "True\n",
      "5\n",
      "5\n",
      "False\n",
      "None\n",
      "No such element found\n"
     ]
    }
   ],
   "source": [
    "print(\"ten\" in elements)\n",
    "print(elements.get(\"ten\"))\n",
    "print(elements[\"ten\"])\n",
    "\n",
    "print(\"five\" in elements)\n",
    "print(elements.get(\"five\"))\n",
    "print(elements.get(\"five\", \"No such element found\"))   # returns "
   ]
  },
  {
   "cell_type": "code",
   "execution_count": 75,
   "metadata": {},
   "outputs": [
    {
     "ename": "KeyError",
     "evalue": "'five'",
     "output_type": "error",
     "traceback": [
      "\u001b[0;31m---------------------------------------------------------------------------\u001b[0m",
      "\u001b[0;31mKeyError\u001b[0m                                  Traceback (most recent call last)",
      "\u001b[0;32m<ipython-input-75-21bd030e9066>\u001b[0m in \u001b[0;36m<module>\u001b[0;34m()\u001b[0m\n\u001b[0;32m----> 1\u001b[0;31m \u001b[0mprint\u001b[0m\u001b[0;34m(\u001b[0m\u001b[0melements\u001b[0m\u001b[0;34m[\u001b[0m\u001b[0;34m\"five\"\u001b[0m\u001b[0;34m]\u001b[0m\u001b[0;34m)\u001b[0m\u001b[0;34m\u001b[0m\u001b[0m\n\u001b[0m",
      "\u001b[0;31mKeyError\u001b[0m: 'five'"
     ]
    }
   ],
   "source": [
    "print(elements[\"five\"])"
   ]
  },
  {
   "cell_type": "code",
   "execution_count": 84,
   "metadata": {},
   "outputs": [
    {
     "name": "stdout",
     "output_type": "stream",
     "text": [
      "<class 'dict'>\n",
      "<class 'list'>\n"
     ]
    }
   ],
   "source": [
    "dict1 = {\"one\":[2,3,4,5], \"two\":[34,4,4], \"six\":[32,45,55,43,2,1]}\n",
    "\n",
    "print(type(dict1))\n",
    "print(type(dict1[\"one\"]))"
   ]
  },
  {
   "cell_type": "code",
   "execution_count": 83,
   "metadata": {},
   "outputs": [
    {
     "ename": "KeyError",
     "evalue": "1",
     "output_type": "error",
     "traceback": [
      "\u001b[0;31m---------------------------------------------------------------------------\u001b[0m",
      "\u001b[0;31mKeyError\u001b[0m                                  Traceback (most recent call last)",
      "\u001b[0;32m<ipython-input-83-4f532f5e70bb>\u001b[0m in \u001b[0;36m<module>\u001b[0;34m()\u001b[0m\n\u001b[0;32m----> 1\u001b[0;31m \u001b[0mprint\u001b[0m\u001b[0;34m(\u001b[0m\u001b[0mtype\u001b[0m\u001b[0;34m(\u001b[0m\u001b[0mdict1\u001b[0m\u001b[0;34m[\u001b[0m\u001b[0;36m1\u001b[0m\u001b[0;34m]\u001b[0m\u001b[0;34m)\u001b[0m\u001b[0;34m)\u001b[0m\u001b[0;34m\u001b[0m\u001b[0m\n\u001b[0m",
      "\u001b[0;31mKeyError\u001b[0m: 1"
     ]
    }
   ],
   "source": [
    "print(type(dict1[1]))\n"
   ]
  },
  {
   "cell_type": "code",
   "execution_count": 85,
   "metadata": {},
   "outputs": [
    {
     "name": "stdout",
     "output_type": "stream",
     "text": [
      "[32, 45, 55, 43, 2, 1]\n"
     ]
    }
   ],
   "source": [
    "print(dict1[\"six\"])"
   ]
  },
  {
   "cell_type": "code",
   "execution_count": 87,
   "metadata": {},
   "outputs": [
    {
     "name": "stdout",
     "output_type": "stream",
     "text": [
      "43\n"
     ]
    }
   ],
   "source": [
    "print(dict1[\"six\"][3])"
   ]
  },
  {
   "cell_type": "code",
   "execution_count": 91,
   "metadata": {},
   "outputs": [
    {
     "name": "stdout",
     "output_type": "stream",
     "text": [
      "<class 'dict'>\n",
      "Husky\n",
      "{'type': 'Meow', 'height': 3, 'weight': 25}\n"
     ]
    }
   ],
   "source": [
    "#### Compund datatype\n",
    "compound_dict = {\"dog\":{\"type\":\"Husky\",\n",
    "                        \"height\": 4,\n",
    "                        \"weight\": 50},\n",
    "                 \"cat\":{\"type\":\"Meow\",\n",
    "                        \"height\":3,\n",
    "                        \"weight\":25,}}\n",
    "print(type(compound_dict))\n",
    "print(compound_dict[\"dog\"][\"type\"])\n",
    "print(compound_dict[\"cat\"])"
   ]
  },
  {
   "cell_type": "code",
   "execution_count": 92,
   "metadata": {},
   "outputs": [
    {
     "name": "stdout",
     "output_type": "stream",
     "text": [
      "{'type': 'Husky', 'height': 4, 'weight': 50, 'legs': 4}\n"
     ]
    }
   ],
   "source": [
    "# add element to the dictionary\n",
    "compound_dict[\"dog\"][\"legs\"]=4\n",
    "print(compound_dict[\"dog\"])"
   ]
  },
  {
   "cell_type": "code",
   "execution_count": null,
   "metadata": {
    "collapsed": true
   },
   "outputs": [],
   "source": []
  }
 ],
 "metadata": {
  "kernelspec": {
   "display_name": "Python 3",
   "language": "python",
   "name": "python3"
  },
  "language_info": {
   "codemirror_mode": {
    "name": "ipython",
    "version": 3
   },
   "file_extension": ".py",
   "mimetype": "text/x-python",
   "name": "python",
   "nbconvert_exporter": "python",
   "pygments_lexer": "ipython3",
   "version": "3.6.3"
  },
  "widgets": {
   "state": {},
   "version": "1.1.2"
  }
 },
 "nbformat": 4,
 "nbformat_minor": 2
}
