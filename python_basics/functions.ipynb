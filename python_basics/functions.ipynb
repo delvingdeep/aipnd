{
 "cells": [
  {
   "cell_type": "markdown",
   "metadata": {},
   "source": [
    "## Functions in Python\n",
    "\n",
    "##### Functions helps in encapsulating code and also facilitates code re-useability. \n",
    "\n",
    "Functions in Python starts by `def` keyword followed by `variable_name` with `arguments` in paranthesis. `function body` is idented after the `header`. Often, function body contains `return` keyword which returns the output of the function."
   ]
  },
  {
   "cell_type": "code",
   "execution_count": 1,
   "metadata": {},
   "outputs": [
    {
     "name": "stdout",
     "output_type": "stream",
     "text": [
      "Hello World!!!\n"
     ]
    }
   ],
   "source": [
    "# Functions with no argument\n",
    "\n",
    "def print_greetings():\n",
    "    print(\"Hello World!!!\") \n",
    "\n",
    "# function can be called anywhere in the code, and is followed by paranthesis with adequate arguments/parameters\n",
    "\n",
    "print_greetings()\n",
    "\n",
    "# prints returns output to the console, whereas `return` keyword returns output for further use"
   ]
  },
  {
   "cell_type": "code",
   "execution_count": 6,
   "metadata": {},
   "outputs": [
    {
     "name": "stdout",
     "output_type": "stream",
     "text": [
      "Area of a cricel with radius 3 :- 28.285714285714285\n",
      "\n",
      "Area of a square with length of each side 3 :- 9\n",
      "\n",
      "Volume of a cylinder with height 5 and radius 3:- 141.42857142857142\n"
     ]
    }
   ],
   "source": [
    "# function with arguments and return type\n",
    "\n",
    "def cylinder_volume(height, radius):\n",
    "    pi = 22/7\n",
    "    return pi*radius*radius*height\n",
    "\n",
    "def area_circle(radius):\n",
    "    pi = 22/7\n",
    "    return pi*radius**2\n",
    "\n",
    "def area_square(length):\n",
    "    return length**2\n",
    "\n",
    "# Call function\n",
    "print(\"Area of a cricel with radius 3 :-\", area_circle(3))\n",
    "print()\n",
    "print(\"Area of a square with length of each side 3 :-\", area_square(3))\n",
    "print()\n",
    "print(\"Volume of a cylinder with height 5 and radius 3:-\", cylinder_volume(5, 3))"
   ]
  },
  {
   "cell_type": "code",
   "execution_count": 7,
   "metadata": {},
   "outputs": [
    {
     "name": "stdout",
     "output_type": "stream",
     "text": [
      "235.71428571428572\n",
      "235.71428571428572\n",
      "462.0\n"
     ]
    }
   ],
   "source": [
    "# function with default argument\n",
    "\n",
    "def cylinder_volume(height, radius=5):\n",
    "    pi = 22/7\n",
    "    return pi*radius*radius*height\n",
    "\n",
    "print(cylinder_volume(3,5))\n",
    "print(cylinder_volume(3))\n",
    "print(cylinder_volume(3,7))"
   ]
  },
  {
   "cell_type": "code",
   "execution_count": 8,
   "metadata": {},
   "outputs": [
    {
     "name": "stdout",
     "output_type": "stream",
     "text": [
      "1 week(s) and 3 day(s).\n"
     ]
    }
   ],
   "source": [
    "# Practice function\n",
    "\n",
    "def readable_timedelta(days):\n",
    "    week = days//7 \n",
    "    day = days%7\n",
    "    return \"{} week(s) and {} day(s).\".format(week,day)\n",
    "    \n",
    "print(readable_timedelta(10))"
   ]
  },
  {
   "cell_type": "markdown",
   "metadata": {},
   "source": [
    "##### Variable Scope\n",
    "\n",
    "- Any variable defined inside the function is called `local` variable and has local scope. \n",
    "- Whereas, the one defined outside the function is called `global` variable and can be used anywhere i.e. global scope.\n",
    "\n",
    "_Note_: The value of a global variable can not be modified inside the function. To do that, it should be passed in as an argument to modify that variable's value inside this function.\n",
    "\n",
    "Reuse of names for objects is ok as long as they are kept in separate scope."
   ]
  },
  {
   "cell_type": "code",
   "execution_count": 9,
   "metadata": {},
   "outputs": [
    {
     "ename": "UnboundLocalError",
     "evalue": "local variable 'count' referenced before assignment",
     "output_type": "error",
     "traceback": [
      "\u001b[0;31m---------------------------------------------------------------------------\u001b[0m",
      "\u001b[0;31mUnboundLocalError\u001b[0m                         Traceback (most recent call last)",
      "\u001b[0;32m<ipython-input-9-41131daab589>\u001b[0m in \u001b[0;36m<module>\u001b[0;34m()\u001b[0m\n\u001b[1;32m      4\u001b[0m     \u001b[0mcount\u001b[0m \u001b[0;34m+=\u001b[0m \u001b[0;36m10\u001b[0m\u001b[0;34m\u001b[0m\u001b[0m\n\u001b[1;32m      5\u001b[0m \u001b[0;34m\u001b[0m\u001b[0m\n\u001b[0;32m----> 6\u001b[0;31m \u001b[0mcounter\u001b[0m\u001b[0;34m(\u001b[0m\u001b[0;34m)\u001b[0m   \u001b[0;31m# should throw an error, as function tries to modify a global variable\u001b[0m\u001b[0;34m\u001b[0m\u001b[0m\n\u001b[0m",
      "\u001b[0;32m<ipython-input-9-41131daab589>\u001b[0m in \u001b[0;36mcounter\u001b[0;34m()\u001b[0m\n\u001b[1;32m      2\u001b[0m \u001b[0;34m\u001b[0m\u001b[0m\n\u001b[1;32m      3\u001b[0m \u001b[0;32mdef\u001b[0m \u001b[0mcounter\u001b[0m\u001b[0;34m(\u001b[0m\u001b[0;34m)\u001b[0m\u001b[0;34m:\u001b[0m\u001b[0;34m\u001b[0m\u001b[0m\n\u001b[0;32m----> 4\u001b[0;31m     \u001b[0mcount\u001b[0m \u001b[0;34m+=\u001b[0m \u001b[0;36m10\u001b[0m\u001b[0;34m\u001b[0m\u001b[0m\n\u001b[0m\u001b[1;32m      5\u001b[0m \u001b[0;34m\u001b[0m\u001b[0m\n\u001b[1;32m      6\u001b[0m \u001b[0mcounter\u001b[0m\u001b[0;34m(\u001b[0m\u001b[0;34m)\u001b[0m   \u001b[0;31m# should throw an error, as function tries to modify a global variable\u001b[0m\u001b[0;34m\u001b[0m\u001b[0m\n",
      "\u001b[0;31mUnboundLocalError\u001b[0m: local variable 'count' referenced before assignment"
     ]
    }
   ],
   "source": [
    "count = 0\n",
    "\n",
    "def counter():\n",
    "    count += 10\n",
    "\n",
    "counter()   # should throw an error, as function tries to modify a global variable"
   ]
  },
  {
   "cell_type": "code",
   "execution_count": 13,
   "metadata": {},
   "outputs": [
    {
     "name": "stdout",
     "output_type": "stream",
     "text": [
      "None\n"
     ]
    }
   ],
   "source": [
    "# corrected code\n",
    "count = 0\n",
    "\n",
    "def counter(num_count):\n",
    "    num_count += 10\n",
    "\n",
    "print(counter(count))   # will print none as function has no return value"
   ]
  },
  {
   "cell_type": "markdown",
   "metadata": {},
   "source": [
    "#### Documentation: Docstrings\n",
    "Docstrings or Document strings are triple quotes.\n",
    "\n",
    "- First line is brief explanation of function.\n",
    "\n",
    "- Second line(optional) might contain INPUT argument explanation.\n",
    "\n",
    "- Last line(optional) might provide description of function OUTPUT.\n"
   ]
  },
  {
   "cell_type": "markdown",
   "metadata": {},
   "source": [
    "### Lambda Expressions\n",
    "\n",
    "Lambda expressions are use to create anonymous functions. It is denoted by `lambda` keyword\n",
    "\n",
    "```\n",
    "def multiply(x, y):\n",
    "    return x * y\n",
    "```\n",
    "\n",
    "can be reduced to\n",
    "\n",
    "```\n",
    "multiply = lambda x, y: x * y\n",
    "```"
   ]
  },
  {
   "cell_type": "code",
   "execution_count": 1,
   "metadata": {},
   "outputs": [
    {
     "data": {
      "text/plain": [
       "6"
      ]
     },
     "execution_count": 1,
     "metadata": {},
     "output_type": "execute_result"
    }
   ],
   "source": [
    "multiply = lambda x, y: x * y\n",
    "\n",
    "multiply(3,2)"
   ]
  },
  {
   "cell_type": "markdown",
   "metadata": {},
   "source": [
    "#### Iterators and Generators\n",
    "\n",
    "- An iterator is an object that represents a stream of data.\n",
    "- Generators are a function that creates iterators.\n",
    "\n",
    "generator function uses `yield` keyword instead of `return`\n",
    "\n"
   ]
  },
  {
   "cell_type": "code",
   "execution_count": 3,
   "metadata": {},
   "outputs": [
    {
     "name": "stdout",
     "output_type": "stream",
     "text": [
      "0\n",
      "1\n",
      "2\n",
      "3\n",
      "4\n"
     ]
    }
   ],
   "source": [
    "# generator function produces an iterator\n",
    "def my_range(x):\n",
    "    i = 0\n",
    "    while i < x:\n",
    "        yield i\n",
    "        i += 1\n",
    "        \n",
    "# generator returns an iterator, which can be used to create a list or iterate through it in a loop to view content\n",
    "\n",
    "for x in my_range(5):\n",
    "    print(x)"
   ]
  }
 ],
 "metadata": {
  "kernelspec": {
   "display_name": "Python [default]",
   "language": "python",
   "name": "python3"
  },
  "language_info": {
   "codemirror_mode": {
    "name": "ipython",
    "version": 3
   },
   "file_extension": ".py",
   "mimetype": "text/x-python",
   "name": "python",
   "nbconvert_exporter": "python",
   "pygments_lexer": "ipython3",
   "version": "3.6.0"
  }
 },
 "nbformat": 4,
 "nbformat_minor": 2
}
