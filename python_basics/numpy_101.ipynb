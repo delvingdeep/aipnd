{
 "cells": [
  {
   "cell_type": "markdown",
   "metadata": {},
   "source": [
    "## NumPy Basics"
   ]
  },
  {
   "cell_type": "code",
   "execution_count": 1,
   "metadata": {},
   "outputs": [
    {
     "name": "stdout",
     "output_type": "stream",
     "text": [
      "# packages in environment at /Users/deepdoshi/anaconda3:\n",
      "#\n",
      "numpy                     1.13.3           py36h2cdce51_0  \n",
      "numpydoc                  0.7.0            py36he54d08e_0  \n"
     ]
    }
   ],
   "source": [
    "!conda list numpy"
   ]
  },
  {
   "cell_type": "markdown",
   "metadata": {},
   "source": [
    "#### NumPy v/s Python execution time comparison"
   ]
  },
  {
   "cell_type": "code",
   "execution_count": 3,
   "metadata": {
    "collapsed": true
   },
   "outputs": [],
   "source": [
    "import time\n",
    "import numpy as np"
   ]
  },
  {
   "cell_type": "code",
   "execution_count": 4,
   "metadata": {
    "collapsed": true
   },
   "outputs": [],
   "source": [
    "x = np.random.random(100000000)  # create an array of 100 million random numbers"
   ]
  },
  {
   "cell_type": "code",
   "execution_count": 7,
   "metadata": {},
   "outputs": [
    {
     "name": "stdout",
     "output_type": "stream",
     "text": [
      "8.12062406539917\n"
     ]
    }
   ],
   "source": [
    "# Find mean using normal python\n",
    "start = time.time()\n",
    "sum(x)/len(x)\n",
    "print(time.time() - start)"
   ]
  },
  {
   "cell_type": "code",
   "execution_count": 8,
   "metadata": {},
   "outputs": [
    {
     "name": "stdout",
     "output_type": "stream",
     "text": [
      "0.06761312484741211\n"
     ]
    }
   ],
   "source": [
    "# Find mean using numpy\n",
    "start = time.time()\n",
    "np.mean(x)\n",
    "print(time.time() - start)"
   ]
  },
  {
   "cell_type": "markdown",
   "metadata": {
    "collapsed": true
   },
   "source": [
    "#### NumPy Arrays"
   ]
  },
  {
   "cell_type": "code",
   "execution_count": 9,
   "metadata": {
    "collapsed": true
   },
   "outputs": [],
   "source": [
    "# Create a 1D ndarray that contains only integers\n",
    "x = np.array([1, 2, 3, 4, 5])"
   ]
  },
  {
   "cell_type": "code",
   "execution_count": 30,
   "metadata": {},
   "outputs": [
    {
     "name": "stdout",
     "output_type": "stream",
     "text": [
      "[1 2 3 4 5]\n",
      "<class 'numpy.ndarray'>\n",
      "int64\n"
     ]
    }
   ],
   "source": [
    "print(x)\n",
    "print(type(x))\n",
    "print(x.dtype)    # dtype returns the type of the element in the array"
   ]
  },
  {
   "cell_type": "markdown",
   "metadata": {},
   "source": [
    "##### Shape of an array is the size along each of its dimensions. "
   ]
  },
  {
   "cell_type": "code",
   "execution_count": 12,
   "metadata": {},
   "outputs": [
    {
     "data": {
      "text/plain": [
       "(5,)"
      ]
     },
     "execution_count": 12,
     "metadata": {},
     "output_type": "execute_result"
    }
   ],
   "source": [
    "x.shape   # returns tuple of n positive integers that specifies sizes of each dimension"
   ]
  },
  {
   "cell_type": "code",
   "execution_count": 14,
   "metadata": {},
   "outputs": [
    {
     "name": "stdout",
     "output_type": "stream",
     "text": [
      "[[1 2 3]\n",
      " [4 5 6]\n",
      " [7 8 9]]\n"
     ]
    }
   ],
   "source": [
    "y = np.array([[1, 2, 3],[4, 5, 6],[7, 8, 9]])\n",
    "print(y)"
   ]
  },
  {
   "cell_type": "code",
   "execution_count": 15,
   "metadata": {},
   "outputs": [
    {
     "data": {
      "text/plain": [
       "(3, 3)"
      ]
     },
     "execution_count": 15,
     "metadata": {},
     "output_type": "execute_result"
    }
   ],
   "source": [
    "y.shape"
   ]
  },
  {
   "cell_type": "code",
   "execution_count": 16,
   "metadata": {},
   "outputs": [
    {
     "data": {
      "text/plain": [
       "9"
      ]
     },
     "execution_count": 16,
     "metadata": {},
     "output_type": "execute_result"
    }
   ],
   "source": [
    "y.size     # total number of elements in an array"
   ]
  },
  {
   "cell_type": "code",
   "execution_count": 17,
   "metadata": {},
   "outputs": [
    {
     "name": "stdout",
     "output_type": "stream",
     "text": [
      "['Hello' 'World']\n"
     ]
    }
   ],
   "source": [
    "z = np.array(['Hello', 'World'])\n",
    "print(z)"
   ]
  },
  {
   "cell_type": "code",
   "execution_count": 19,
   "metadata": {},
   "outputs": [
    {
     "name": "stdout",
     "output_type": "stream",
     "text": [
      "shape:  (2,)\n",
      "type:  <class 'numpy.ndarray'>\n",
      "dtype:  <U5\n"
     ]
    }
   ],
   "source": [
    "# print information about z\n",
    "print('shape: ', z.shape)\n",
    "print('type: ', type(z))\n",
    "print('dtype: ', z.dtype)"
   ]
  },
  {
   "cell_type": "code",
   "execution_count": 21,
   "metadata": {},
   "outputs": [
    {
     "name": "stdout",
     "output_type": "stream",
     "text": [
      "['1' '2' 'World']\n",
      "shape:  (3,)\n",
      "type:  <class 'numpy.ndarray'>\n",
      "dtype:  <U21\n"
     ]
    }
   ],
   "source": [
    "w = np.array([1,2,'World'])\n",
    "print(w)\n",
    "print('shape: ', w.shape)\n",
    "print('type: ', type(w))\n",
    "print('dtype: ', w.dtype)"
   ]
  },
  {
   "cell_type": "code",
   "execution_count": 23,
   "metadata": {},
   "outputs": [
    {
     "name": "stdout",
     "output_type": "stream",
     "text": [
      "[ 1.   2.   3.5] float64\n"
     ]
    }
   ],
   "source": [
    "v = np.array([1, 2, 3.5])\n",
    "print(v, v.dtype)"
   ]
  },
  {
   "cell_type": "code",
   "execution_count": 32,
   "metadata": {},
   "outputs": [
    {
     "name": "stdout",
     "output_type": "stream",
     "text": [
      "The elements in a are of type: int64\n",
      "The elements in b are of type: float64\n",
      "The elements in c are of type: float64\n"
     ]
    }
   ],
   "source": [
    "# Create a rank 1 ndarray that contains integers\n",
    "a = np.array([1,2,3])\n",
    "\n",
    "# Create a rank 1 ndarray that contains floats\n",
    "b = np.array([1.0,2.0,3.0])\n",
    "\n",
    "# Create a rank 1 ndarray that contains integers and floats. \n",
    "## Here Numpy does `Upcasting` by assigning float64 no matter presence of integer elements\n",
    "c = np.array([1, 2.5, 4])\n",
    "\n",
    "# We print the dtype of each ndarray\n",
    "print('The elements in a are of type:', a.dtype)\n",
    "print('The elements in b are of type:', b.dtype)\n",
    "print('The elements in c are of type:', c.dtype)\n",
    "\n",
    "# Numpy automatically assigns the dtype based upon the type of the elements of ndarray"
   ]
  },
  {
   "cell_type": "code",
   "execution_count": 24,
   "metadata": {},
   "outputs": [
    {
     "name": "stdout",
     "output_type": "stream",
     "text": [
      "[3 2 5]\n",
      "dtype:  int64\n"
     ]
    }
   ],
   "source": [
    "# Assign dtype manually to any ndarray\n",
    "s = np.array([3.5, 2.4, 5.4], dtype=np.int64)\n",
    "print(s)\n",
    "print('dtype: ', s.dtype)"
   ]
  },
  {
   "cell_type": "code",
   "execution_count": 34,
   "metadata": {},
   "outputs": [
    {
     "name": "stdout",
     "output_type": "stream",
     "text": [
      "[1 2 3 4 5 6 7 8 9 0] int64\n"
     ]
    }
   ],
   "source": [
    "# Create a rank 1 array\n",
    "t = np.array([1, 2, 3, 4, 5, 6, 7, 8, 9, 0])\n",
    "print(t, t.dtype)\n",
    "\n",
    "# Save it into current directory\n",
    "np.save('my_array', t)"
   ]
  },
  {
   "cell_type": "code",
   "execution_count": 33,
   "metadata": {},
   "outputs": [
    {
     "name": "stdout",
     "output_type": "stream",
     "text": [
      "[1 2 3 4 5 6 7 8 9 0] int64\n"
     ]
    }
   ],
   "source": [
    "# Load any saved array from current directory\n",
    "r = np.load('my_array.npy')\n",
    "print(r, r.dtype)"
   ]
  },
  {
   "cell_type": "markdown",
   "metadata": {},
   "source": [
    "#### NumPy Functions"
   ]
  },
  {
   "cell_type": "code",
   "execution_count": 37,
   "metadata": {},
   "outputs": [
    {
     "name": "stdout",
     "output_type": "stream",
     "text": [
      "\n",
      "x = \n",
      " [[ 0.  0.  0.  0.]\n",
      " [ 0.  0.  0.  0.]\n",
      " [ 0.  0.  0.  0.]]\n",
      "\n",
      "x has dimension:  (3, 4)\n",
      "x is an object of type:  <class 'numpy.ndarray'>\n",
      "The element in x are of type:  float64\n"
     ]
    }
   ],
   "source": [
    "# Create a 3 x 4 ndarray full of zeros\n",
    "x = np.zeros((3,4))\n",
    "\n",
    "print()\n",
    "print('x = \\n', x)\n",
    "print()\n",
    "\n",
    "# Print information about x\n",
    "print('x has dimension: ', x.shape)\n",
    "print('x is an object of type: ', type(x))\n",
    "print('The element in x are of type: ', x.dtype)"
   ]
  },
  {
   "cell_type": "code",
   "execution_count": 39,
   "metadata": {},
   "outputs": [
    {
     "name": "stdout",
     "output_type": "stream",
     "text": [
      "\n",
      "y = \n",
      " [[ 1.  1.]\n",
      " [ 1.  1.]\n",
      " [ 1.  1.]]\n",
      "\n",
      "y has dimension:  (3, 2)\n",
      "y is an object of type:  <class 'numpy.ndarray'>\n",
      "All the elements in y are of the type:  float64\n"
     ]
    }
   ],
   "source": [
    "# Create a 3 x 2 ndarray full of ones\n",
    "y = np.ones((3,2))\n",
    "\n",
    "print()\n",
    "print('y = \\n', y)\n",
    "\n",
    "print()\n",
    "print(\"y has dimension: \", y.shape)\n",
    "print(\"y is an object of type: \", type(y))\n",
    "print(\"All the elements in y are of the type: \", y.dtype)"
   ]
  },
  {
   "cell_type": "code",
   "execution_count": 40,
   "metadata": {},
   "outputs": [
    {
     "name": "stdout",
     "output_type": "stream",
     "text": [
      "\n",
      "z = \n",
      " [[5 5 5]\n",
      " [5 5 5]]\n",
      "\n",
      "z has the dimension:  (2, 3)\n",
      "z is an object of type:  <class 'numpy.ndarray'>\n",
      "All the elements in z are of the type:  int64\n"
     ]
    }
   ],
   "source": [
    "# Create a 2 x 3 ndarray of full of fives\n",
    "# function definition: np.full(shape, constant)\n",
    "z = np.full((2,3),5)\n",
    "\n",
    "print()\n",
    "print('z = \\n', z)\n",
    "print()\n",
    "\n",
    "print(\"z has the dimension: \", z.shape)\n",
    "print(\"z is an object of type: \", type(z))\n",
    "print(\"All the elements in z are of the type: \", z.dtype)"
   ]
  },
  {
   "cell_type": "markdown",
   "metadata": {},
   "source": [
    "##### An identity matrix is a square matrix that has only 1 as it's main diagonal"
   ]
  },
  {
   "cell_type": "code",
   "execution_count": 41,
   "metadata": {},
   "outputs": [
    {
     "name": "stdout",
     "output_type": "stream",
     "text": [
      "i = \n",
      " [[ 1.  0.  0.  0.  0.]\n",
      " [ 0.  1.  0.  0.  0.]\n",
      " [ 0.  0.  1.  0.  0.]\n",
      " [ 0.  0.  0.  1.  0.]\n",
      " [ 0.  0.  0.  0.  1.]]\n",
      "\n",
      "i has dimension:  (5, 5)\n",
      "i is an object of the type:  <class 'numpy.ndarray'>\n",
      "All the elements in i are of the type:  float64\n"
     ]
    }
   ],
   "source": [
    "# Create a 5 x 5 Identity matrix\n",
    "i = np.eye(5)\n",
    "\n",
    "print('i = \\n', i)\n",
    "\n",
    "print()\n",
    "print(\"i has dimension: \", i.shape)\n",
    "print(\"i is an object of the type: \", type(i))\n",
    "print(\"All the elements in i are of the type: \", i.dtype)"
   ]
  },
  {
   "cell_type": "markdown",
   "metadata": {},
   "source": [
    "##### A diagonal matrix is a square matrix which only has elements on it main diagonal"
   ]
  },
  {
   "cell_type": "code",
   "execution_count": 42,
   "metadata": {},
   "outputs": [
    {
     "name": "stdout",
     "output_type": "stream",
     "text": [
      "d = \n",
      " [[1 0 0 0]\n",
      " [0 2 0 0]\n",
      " [0 0 3 0]\n",
      " [0 0 0 4]]\n",
      "\n",
      "d has dimension:  (4, 4)\n",
      "d is an object of the type:  <class 'numpy.ndarray'>\n",
      "All the elements in d are of the type:  int64\n"
     ]
    }
   ],
   "source": [
    "# Create a 4 x 4 diagonal matrix\n",
    "d = np.diag([1, 2, 3, 4])\n",
    "\n",
    "print('d = \\n', d)\n",
    "print()\n",
    "\n",
    "print(\"d has dimension: \", d.shape)\n",
    "print(\"d is an object of the type: \", type(d))\n",
    "print(\"All the elements in d are of the type: \", d.dtype)"
   ]
  },
  {
   "cell_type": "code",
   "execution_count": 44,
   "metadata": {},
   "outputs": [
    {
     "name": "stdout",
     "output_type": "stream",
     "text": [
      "s =  [0 1 2 3 4 5 6 7 8 9]\n",
      "\n",
      "s has dimensions: (10,)\n",
      "s is an object of the type:  <class 'numpy.ndarray'>\n",
      "All the elements in s are of the type:  int64\n"
     ]
    }
   ],
   "source": [
    "# Create a rank 1 ndarray that has sequential integers\n",
    "s = np.arange(10)\n",
    "\n",
    "print(\"s = \", s)\n",
    "\n",
    "print()\n",
    "print(\"s has dimensions:\", s.shape)\n",
    "print(\"s is an object of the type: \", type(s))\n",
    "print(\"All the elements in s are of the type: \", s.dtype)"
   ]
  },
  {
   "cell_type": "code",
   "execution_count": 46,
   "metadata": {},
   "outputs": [
    {
     "name": "stdout",
     "output_type": "stream",
     "text": [
      "s1 =  [3 4 5 6 7 8 9]\n",
      "\n",
      "s1 has dimensions:  (7,)\n",
      "s1 sis an object of the type:  <class 'numpy.ndarray'>\n",
      "All the elements in s1 are of the type:  int64\n"
     ]
    }
   ],
   "source": [
    "s1 = np.arange(3,10)   # start is inclusive but stop is exclusive\n",
    "\n",
    "print(\"s1 = \", s1)\n",
    "print()\n",
    "\n",
    "print(\"s1 has dimensions: \", s1.shape)\n",
    "print(\"s1 is an object of the type: \", type(s1))\n",
    "print(\"All the elements in s1 are of the type: \", s1.dtype)"
   ]
  },
  {
   "cell_type": "code",
   "execution_count": 47,
   "metadata": {},
   "outputs": [
    {
     "name": "stdout",
     "output_type": "stream",
     "text": [
      "s2 =  [ 2  5  8 11 14 17]\n",
      "\n",
      "s2 has dimesions:  (6,)\n",
      "s2 is an object of the type:  <class 'numpy.ndarray'>\n",
      "All the elements in s2 are of the type:  int64\n"
     ]
    }
   ],
   "source": [
    "s2 = np.arange(2,20,3)  # the third argument is the step size\n",
    "\n",
    "print(\"s2 = \", s2)\n",
    "print()\n",
    "print(\"s2 has dimesions: \", s2.shape)\n",
    "print(\"s2 is an object of the type: \", type(s2))\n",
    "print(\"All the elements in s2 are of the type: \", s2.dtype)"
   ]
  },
  {
   "cell_type": "code",
   "execution_count": 49,
   "metadata": {},
   "outputs": [
    {
     "name": "stdout",
     "output_type": "stream",
     "text": [
      "l = [  2.           2.88888889   3.77777778   4.66666667   5.55555556\n",
      "   6.44444444   7.33333333   8.22222222   9.11111111  10.        ]\n",
      "\n",
      "l has dimensions:  (10,)\n",
      "l is an object of the type:  <class 'numpy.ndarray'>\n",
      "All the elements in l are of the type:  float64\n",
      "l1 = [ 2.   2.8  3.6  4.4  5.2  6.   6.8  7.6  8.4  9.2]\n",
      "\n",
      "l1 has dimensions:  (10,)\n"
     ]
    }
   ],
   "source": [
    "# np.arange() is not good for floating point step, so np.linspace() as it focuses on intervals and not steps\n",
    "\n",
    "l = np.linspace(2,10, 10)  \n",
    "# start and stop are both inclusive i.e. it's a closed interval, with 10 elements placed at equal intervals\n",
    "\n",
    "print(\"l =\", l)\n",
    "print()\n",
    "print(\"l has dimensions: \", l.shape)\n",
    "print(\"l is an object of the type: \", type(l))\n",
    "print(\"All the elements in l are of the type: \", l.dtype)\n",
    "\n",
    "# Inorder to exlcude endpoints\n",
    "\n",
    "l1 = np.linspace(2,10,10, endpoint=False)  # this will change the elements of the ndarray as it's interval based\n",
    "print(\"l1 =\", l1)\n",
    "print()\n",
    "print(\"l1 has dimensions: \", l1.shape)"
   ]
  },
  {
   "cell_type": "code",
   "execution_count": 52,
   "metadata": {},
   "outputs": [
    {
     "name": "stdout",
     "output_type": "stream",
     "text": [
      "Original r = [ 0  1  2  3  4  5  6  7  8  9 10 11 12 13 14 15 16 17 18 19]\n",
      "\n",
      "Original r has dimensions:  (20,)\n",
      "\n",
      "Reshaped r =\n",
      " [[ 0  1  2  3  4]\n",
      " [ 5  6  7  8  9]\n",
      " [10 11 12 13 14]\n",
      " [15 16 17 18 19]]\n",
      "\n",
      "Reshaped r has dimensions:  (4, 5)\n"
     ]
    }
   ],
   "source": [
    "# Create a rank 2 ndarray using built-in functions\n",
    "\n",
    "r = np.arange(20)\n",
    "print('Original r =', r)\n",
    "\n",
    "print()\n",
    "print(\"Original r has dimensions: \", r.shape)\n",
    "print()\n",
    "\n",
    "# Reshape it into 4 x 5 array\n",
    "r = np.reshape(r,(4,5))\n",
    "print(\"Reshaped r =\\n\", r)\n",
    "print()\n",
    "print(\"Reshaped r has dimensions: \", r.shape)"
   ]
  },
  {
   "cell_type": "code",
   "execution_count": 54,
   "metadata": {},
   "outputs": [
    {
     "name": "stdout",
     "output_type": "stream",
     "text": [
      "\n",
      "r1 =\n",
      " [[ 0  1  2  3  4]\n",
      " [ 5  6  7  8  9]\n",
      " [10 11 12 13 14]\n",
      " [15 16 17 18 19]]\n",
      "\n",
      "r1 has dimension:  (4, 5)\n"
     ]
    }
   ],
   "source": [
    "# . is use to append multiple functions to make them look methods\n",
    "r1 = np.arange(20).reshape(4,5)\n",
    "print()\n",
    "print(\"r1 =\\n\", r1)\n",
    "print()\n",
    "print(\"r1 has dimension: \", r1.shape)"
   ]
  },
  {
   "cell_type": "markdown",
   "metadata": {},
   "source": [
    "##### np.random.random(shape) creates random array of the shape in the interval of [0.0, 1.0)"
   ]
  },
  {
   "cell_type": "code",
   "execution_count": 57,
   "metadata": {},
   "outputs": [
    {
     "name": "stdout",
     "output_type": "stream",
     "text": [
      "rf =\n",
      " [[ 0.76834511  0.83227786  0.10182857]\n",
      " [ 0.15486577  0.0521477   0.73776605]\n",
      " [ 0.20842137  0.88403863  0.7315615 ]]\n",
      "\n",
      "rf has dimensions:  (3, 3)\n",
      "rf is an object of the type:  <class 'numpy.ndarray'>\n",
      "All the elements in rf is of the type:  float64\n"
     ]
    }
   ],
   "source": [
    "# Create a 3 x 3 random array\n",
    "rf = np.random.random((3,3))\n",
    "print('rf =\\n', rf)\n",
    "print()\n",
    "print(\"rf has dimensions: \", rf.shape)\n",
    "print(\"rf is an object of the type: \", type(rf))\n",
    "print(\"All the elements in rf is of the type: \", rf.dtype)"
   ]
  },
  {
   "cell_type": "markdown",
   "metadata": {},
   "source": [
    "###### np.random.randint(start,stop,shape) creates any int array in the close-open interval"
   ]
  },
  {
   "cell_type": "code",
   "execution_count": 66,
   "metadata": {},
   "outputs": [
    {
     "name": "stdout",
     "output_type": "stream",
     "text": [
      "rf1 =\n",
      " [[7 8 7 6 9]\n",
      " [9 4 6 7 4]\n",
      " [9 7 9 5 9]\n",
      " [8 5 5 5 6]]\n",
      "\n",
      "rf1 has dimensions:  (4, 5)\n",
      "rf1 is an object of the type:  <class 'numpy.ndarray'>\n",
      "All the elements in rf1 is of the type:  int64\n"
     ]
    }
   ],
   "source": [
    "# Create a 4 x 5 random array in interval [4,10)\n",
    "rf1 = np.random.randint(4,10,size=(4,5))\n",
    "print('rf1 =\\n', rf1)\n",
    "print()\n",
    "print(\"rf1 has dimensions: \", rf1.shape)\n",
    "print(\"rf1 is an object of the type: \", type(rf1))\n",
    "print(\"All the elements in rf1 is of the type: \", rf1.dtype)"
   ]
  },
  {
   "cell_type": "markdown",
   "metadata": {},
   "source": [
    "###### np.random.normal(mean,standard deviation, size=shape) draws from a normal/gaussian distribution with given mean and standard deviation"
   ]
  },
  {
   "cell_type": "code",
   "execution_count": 67,
   "metadata": {},
   "outputs": [
    {
     "name": "stdout",
     "output_type": "stream",
     "text": [
      "\n",
      "norm_arr = \n",
      " [[-0.09843301 -0.08784733  0.00238909 ..., -0.07763005  0.10344931\n",
      "  -0.04464902]\n",
      " [ 0.0826384  -0.04401434  0.06171523 ..., -0.05631471  0.09637871\n",
      "   0.06859614]\n",
      " [ 0.1560583   0.00579493  0.00194732 ..., -0.00873765  0.00132139\n",
      "   0.16177084]\n",
      " ..., \n",
      " [ 0.02834862 -0.0396386  -0.03197804 ...,  0.02152386  0.02290728\n",
      "  -0.02036413]\n",
      " [ 0.08904994  0.01549135  0.00532091 ..., -0.03859146 -0.12392615\n",
      "   0.1140706 ]\n",
      " [ 0.05025387  0.0854106  -0.05813109 ..., -0.03240422  0.02237646\n",
      "  -0.02997709]]\n",
      "\n",
      "norm_arr has dimensions: (1000, 1000)\n",
      "norm_arr is an object of type: <class 'numpy.ndarray'>\n",
      "The elements in norm_arr are of type: float64\n",
      "The elements in norm_arr have a mean of: -6.35629293629e-05\n",
      "The maximum value in norm_arr is: 0.511688968755\n",
      "The minimum value in norm_arr is: -0.510866735332\n",
      "norm_arr has 500695 negative numbers\n",
      "norm_arr has 499305 positive numbers\n"
     ]
    }
   ],
   "source": [
    "norm_arr = np.random.normal(0, 0.1, size=(1000,1000))\n",
    "print()\n",
    "print(\"norm_arr = \\n\", norm_arr)\n",
    "print()\n",
    "\n",
    "print('norm_arr has dimensions:', norm_arr.shape)\n",
    "print('norm_arr is an object of type:', type(norm_arr))\n",
    "print('The elements in norm_arr are of type:', norm_arr.dtype)\n",
    "print('The elements in norm_arr have a mean of:', norm_arr.mean())\n",
    "print('The maximum value in norm_arr is:', norm_arr.max())\n",
    "print('The minimum value in norm_arr is:', norm_arr.min())\n",
    "print('norm_arr has', (norm_arr < 0).sum(), 'negative numbers')\n",
    "print('norm_arr has', (norm_arr > 0).sum(), 'positive numbers')"
   ]
  }
 ],
 "metadata": {
  "kernelspec": {
   "display_name": "Python 3",
   "language": "python",
   "name": "python3"
  },
  "language_info": {
   "codemirror_mode": {
    "name": "ipython",
    "version": 3
   },
   "file_extension": ".py",
   "mimetype": "text/x-python",
   "name": "python",
   "nbconvert_exporter": "python",
   "pygments_lexer": "ipython3",
   "version": "3.6.3"
  }
 },
 "nbformat": 4,
 "nbformat_minor": 2
}
