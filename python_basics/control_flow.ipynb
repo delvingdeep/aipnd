{
 "cells": [
  {
   "cell_type": "markdown",
   "metadata": {},
   "source": [
    "##### Control Flow in Python"
   ]
  },
  {
   "cell_type": "code",
   "execution_count": 2,
   "metadata": {},
   "outputs": [
    {
     "name": "stdout",
     "output_type": "stream",
     "text": [
      "450 100\n",
      "0 90\n"
     ]
    }
   ],
   "source": [
    "#### if statement\n",
    "\n",
    "no_of_miles = 450\n",
    "total_charge = 100\n",
    "\n",
    "print(no_of_miles, total_charge)\n",
    "\n",
    "if no_of_miles > 400:\n",
    "    total_charge -= 10\n",
    "    no_of_miles = 0\n",
    "    \n",
    "print(no_of_miles, total_charge)"
   ]
  },
  {
   "cell_type": "code",
   "execution_count": 8,
   "metadata": {},
   "outputs": [
    {
     "name": "stdout",
     "output_type": "stream",
     "text": [
      "Number 79 is Odd.\n"
     ]
    }
   ],
   "source": [
    "number = 79\n",
    "\n",
    "if number == 0:\n",
    "    print(\"Number \" + str(number) + \" is Zero.\")\n",
    "elif number % 2 == 0:\n",
    "    print(\"Number \" + str(number) + \" is Even.\" )\n",
    "else:\n",
    "    print(\"Number \" + str(number) + \" is Odd.\")"
   ]
  },
  {
   "cell_type": "code",
   "execution_count": 9,
   "metadata": {},
   "outputs": [
    {
     "name": "stdout",
     "output_type": "stream",
     "text": [
      "Congratulations! You won a wafer-thin mint!\n"
     ]
    }
   ],
   "source": [
    "'''\n",
    "Condition Table: \n",
    "Points\tPrize\n",
    "1 - 50\twooden rabbit\n",
    "51 - 150\tno prize\n",
    "151 - 180\twafer-thin mint\n",
    "181 - 200\tpenguin\n",
    "'''\n",
    "points = 174  \n",
    "\n",
    "if 1 <= points <= 50:\n",
    "    prize = \"wooden rabbit\"\n",
    "elif 51 <= points <= 150:\n",
    "    prize = \"no prize\"\n",
    "elif 151 <= points <= 180: \n",
    "    prize = \"wafer-thin mint\"\n",
    "elif 181 <= points <= 200:\n",
    "    prize = \"penguin\"\n",
    "\n",
    "result = \"Congratulations! You won a {}!\".format(prize)\n",
    "\n",
    "print(result)"
   ]
  },
  {
   "cell_type": "code",
   "execution_count": 10,
   "metadata": {},
   "outputs": [
    {
     "name": "stdout",
     "output_type": "stream",
     "text": [
      "Team enters Semi-finals\n",
      "Team has enough players to play next match\n"
     ]
    }
   ],
   "source": [
    "# complex boolean expression\n",
    "team = \"won\"\n",
    "round_of = \"quater-finals\"\n",
    "players = 12\n",
    "matches = 3\n",
    "\n",
    "if team == \"won\" and round_of == \"quater-finals\":\n",
    "    print(\"Team enters Semi-finals\")\n",
    "    \n",
    "if players >= players/matches:\n",
    "    print(\"Team has enough players to play next match\")"
   ]
  },
  {
   "cell_type": "code",
   "execution_count": null,
   "metadata": {
    "collapsed": true
   },
   "outputs": [],
   "source": []
  }
 ],
 "metadata": {
  "kernelspec": {
   "display_name": "Python 3",
   "language": "python",
   "name": "python3"
  },
  "language_info": {
   "codemirror_mode": {
    "name": "ipython",
    "version": 3
   },
   "file_extension": ".py",
   "mimetype": "text/x-python",
   "name": "python",
   "nbconvert_exporter": "python",
   "pygments_lexer": "ipython3",
   "version": "3.6.3"
  }
 },
 "nbformat": 4,
 "nbformat_minor": 2
}
