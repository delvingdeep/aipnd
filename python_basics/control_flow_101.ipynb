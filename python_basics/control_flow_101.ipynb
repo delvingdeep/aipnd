{
 "cells": [
  {
   "cell_type": "markdown",
   "metadata": {},
   "source": [
    "##### Control Flow 101 in Python"
   ]
  },
  {
   "cell_type": "code",
   "execution_count": 2,
   "metadata": {},
   "outputs": [
    {
     "name": "stdout",
     "output_type": "stream",
     "text": [
      "450 100\n",
      "0 90\n"
     ]
    }
   ],
   "source": [
    "#### if statement\n",
    "\n",
    "no_of_miles = 450\n",
    "total_charge = 100\n",
    "\n",
    "print(no_of_miles, total_charge)\n",
    "\n",
    "if no_of_miles > 400:\n",
    "    total_charge -= 10\n",
    "    no_of_miles = 0\n",
    "    \n",
    "print(no_of_miles, total_charge)"
   ]
  },
  {
   "cell_type": "code",
   "execution_count": 8,
   "metadata": {},
   "outputs": [
    {
     "name": "stdout",
     "output_type": "stream",
     "text": [
      "Number 79 is Odd.\n"
     ]
    }
   ],
   "source": [
    "number = 79\n",
    "\n",
    "if number == 0:\n",
    "    print(\"Number \" + str(number) + \" is Zero.\")\n",
    "elif number % 2 == 0:\n",
    "    print(\"Number \" + str(number) + \" is Even.\" )\n",
    "else:\n",
    "    print(\"Number \" + str(number) + \" is Odd.\")"
   ]
  },
  {
   "cell_type": "code",
   "execution_count": 9,
   "metadata": {},
   "outputs": [
    {
     "name": "stdout",
     "output_type": "stream",
     "text": [
      "Congratulations! You won a wafer-thin mint!\n"
     ]
    }
   ],
   "source": [
    "'''\n",
    "Condition Table: \n",
    "Points\tPrize\n",
    "1 - 50\twooden rabbit\n",
    "51 - 150\tno prize\n",
    "151 - 180\twafer-thin mint\n",
    "181 - 200\tpenguin\n",
    "'''\n",
    "points = 174  \n",
    "\n",
    "if 1 <= points <= 50:\n",
    "    prize = \"wooden rabbit\"\n",
    "elif 51 <= points <= 150:\n",
    "    prize = \"no prize\"\n",
    "elif 151 <= points <= 180: \n",
    "    prize = \"wafer-thin mint\"\n",
    "elif 181 <= points <= 200:\n",
    "    prize = \"penguin\"\n",
    "\n",
    "result = \"Congratulations! You won a {}!\".format(prize)\n",
    "\n",
    "print(result)"
   ]
  },
  {
   "cell_type": "code",
   "execution_count": 10,
   "metadata": {},
   "outputs": [
    {
     "name": "stdout",
     "output_type": "stream",
     "text": [
      "Team enters Semi-finals\n",
      "Team has enough players to play next match\n"
     ]
    }
   ],
   "source": [
    "# complex boolean expression\n",
    "team = \"won\"\n",
    "round_of = \"quater-finals\"\n",
    "players = 12\n",
    "matches = 3\n",
    "\n",
    "if team == \"won\" and round_of == \"quater-finals\":\n",
    "    print(\"Team enters Semi-finals\")\n",
    "    \n",
    "if players >= players/matches:\n",
    "    print(\"Team has enough players to play next match\")"
   ]
  },
  {
   "cell_type": "markdown",
   "metadata": {
    "collapsed": true
   },
   "source": [
    "##### For Loops"
   ]
  },
  {
   "cell_type": "code",
   "execution_count": 2,
   "metadata": {},
   "outputs": [
    {
     "name": "stdout",
     "output_type": "stream",
     "text": [
      "houghton\n",
      "berkeley\n",
      "fremont\n",
      "auburn hills\n",
      "north hollywood\n",
      "End of loop\n"
     ]
    }
   ],
   "source": [
    "# For loop is used to iterate over an iterator, which can include strings, lists, tuples, dictionaries and files.\n",
    "\n",
    "cities = ['houghton', 'berkeley', 'fremont', 'auburn hills', 'north hollywood']\n",
    "\n",
    "for city in cities:\n",
    "    print(city)\n",
    "print(\"End of loop\")"
   ]
  },
  {
   "cell_type": "code",
   "execution_count": 3,
   "metadata": {},
   "outputs": [
    {
     "name": "stdout",
     "output_type": "stream",
     "text": [
      "0\n",
      "1\n",
      "2\n"
     ]
    }
   ],
   "source": [
    "# range() function is use to create an iterable sequence in For loops\n",
    "## function defination :- range(start, stop, step)\n",
    "\n",
    "for i in range(3):\n",
    "    print(i)"
   ]
  },
  {
   "cell_type": "code",
   "execution_count": 11,
   "metadata": {},
   "outputs": [
    {
     "name": "stdout",
     "output_type": "stream",
     "text": [
      "0\n",
      "1\n",
      "2\n",
      "3\n"
     ]
    }
   ],
   "source": [
    "for i in range(4):  # default start is 0\n",
    "    print(i)"
   ]
  },
  {
   "cell_type": "code",
   "execution_count": 12,
   "metadata": {},
   "outputs": [
    {
     "name": "stdout",
     "output_type": "stream",
     "text": [
      "0\n",
      "1\n",
      "2\n",
      "3\n"
     ]
    }
   ],
   "source": [
    "for i in range(0,4):  # default step is 1\n",
    "    print(i)"
   ]
  },
  {
   "cell_type": "code",
   "execution_count": 13,
   "metadata": {},
   "outputs": [
    {
     "name": "stdout",
     "output_type": "stream",
     "text": [
      "0\n",
      "2\n"
     ]
    }
   ],
   "source": [
    "for i in range(0,4,2):\n",
    "    print(i)"
   ]
  },
  {
   "cell_type": "code",
   "execution_count": 17,
   "metadata": {},
   "outputs": [
    {
     "name": "stdout",
     "output_type": "stream",
     "text": [
      "['Houghton', 'Berkeley', 'Fremont', 'Auburn Hills', 'North Hollywood']\n"
     ]
    }
   ],
   "source": [
    "# For loops are use to create and modify lists\n",
    "\n",
    "\n",
    "cities = ['houghton', 'berkeley', 'fremont', 'auburn hills', 'north hollywood']\n",
    "\n",
    "capitalized_cities = []   # list declaration is needed to avoid any NameError\n",
    "\n",
    "for city in cities:\n",
    "    capitalized_cities.append(city.title())\n",
    "\n",
    "print(capitalized_cities)"
   ]
  },
  {
   "cell_type": "markdown",
   "metadata": {},
   "source": [
    "###### Practice programs:"
   ]
  },
  {
   "cell_type": "code",
   "execution_count": 18,
   "metadata": {},
   "outputs": [
    {
     "name": "stdout",
     "output_type": "stream",
     "text": [
      "['houghton', 'berkeley', 'fremont', 'auburn hills', 'north hollywood']\n",
      "['Houghton', 'Berkeley', 'Fremont', 'Auburn Hills', 'North Hollywood']\n"
     ]
    }
   ],
   "source": [
    "# modifying list\n",
    "\n",
    "print(cities)\n",
    "\n",
    "for index in range(len(cities)):\n",
    "    cities[index] = cities[index].title()\n",
    "    \n",
    "print(cities)"
   ]
  },
  {
   "cell_type": "code",
   "execution_count": 21,
   "metadata": {},
   "outputs": [
    {
     "name": "stdout",
     "output_type": "stream",
     "text": [
      "['new_york', 'boston', 'chicago', 'san_francisco']\n",
      "['New York', 'Boston', 'Chicago', 'San Francisco']\n"
     ]
    }
   ],
   "source": [
    "# multiple methods \n",
    "\n",
    "cities = [\"new_york\", \"boston\", \"chicago\", \"san_francisco\"]\n",
    "print(cities)\n",
    "\n",
    "fav_cities = []\n",
    "\n",
    "for city in range(len(cities)):\n",
    "# for city in cities:       \n",
    "#   fav_cities.append(city.title().replace(\"_\",\" \"))\n",
    "    fav_cities.append(cities[city].title().replace(\"_\",\" \"))\n",
    "\n",
    "print(fav_cities)"
   ]
  },
  {
   "cell_type": "code",
   "execution_count": 23,
   "metadata": {},
   "outputs": [
    {
     "name": "stdout",
     "output_type": "stream",
     "text": [
      "2\n"
     ]
    }
   ],
   "source": [
    "# list element string slicling\n",
    "\n",
    "'''\n",
    " Calculate number of XML tags in a list of strings\n",
    " A XML tag is enclosed in < and >\n",
    "'''\n",
    "    \n",
    "tokens = ['<greeting>', 'Hello World!', '</greeting>']\n",
    "count = 0\n",
    "\n",
    "'''second method:-\n",
    "for token in tokens:\n",
    "    if token[0] == '<' and token[-1] == '>':\n",
    "'''\n",
    "for token in range(len(tokens)):\n",
    "    if tokens[token][0] == '<' and tokens[token][-1] == \">\":\n",
    "        count +=1 \n",
    "\n",
    "print(count)"
   ]
  },
  {
   "cell_type": "code",
   "execution_count": 24,
   "metadata": {},
   "outputs": [
    {
     "name": "stdout",
     "output_type": "stream",
     "text": [
      "<ul>\n",
      "<li>first string</li>\n",
      "<li>second string</li>\n",
      "</ul>\n"
     ]
    }
   ],
   "source": [
    "# Create HTML list\n",
    "\n",
    "items = ['first string', 'second string']\n",
    "\n",
    "html_str = \"<ul>\\n\" \n",
    "\n",
    "for item in range(len(items)):\n",
    "    html_str = html_str + \"<li>\" + items[item] + \"</li>\\n\"\n",
    "html_str = html_str + \"</ul>\"\n",
    "\n",
    "'''second method:-\n",
    "for item in items:\n",
    " html_str += \"<li>{}</li>\\n\".format(item)\n",
    "html_str += \"</ul>\n",
    "'''\n",
    "\n",
    "print(html_str)"
   ]
  },
  {
   "cell_type": "code",
   "execution_count": 26,
   "metadata": {},
   "outputs": [
    {
     "name": "stdout",
     "output_type": "stream",
     "text": [
      "[0, 1, 2, 3, 4, 5, 6, 7, 8]\n",
      "[]\n"
     ]
    }
   ],
   "source": [
    "# miscellaneous\n",
    "\n",
    "print(list(range(9)))\n",
    "print(list(range(0,-5)))   # default step is 1 and so empty list is output"
   ]
  }
 ],
 "metadata": {
  "kernelspec": {
   "display_name": "Python 3",
   "language": "python",
   "name": "python3"
  },
  "language_info": {
   "codemirror_mode": {
    "name": "ipython",
    "version": 3
   },
   "file_extension": ".py",
   "mimetype": "text/x-python",
   "name": "python",
   "nbconvert_exporter": "python",
   "pygments_lexer": "ipython3",
   "version": "3.6.3"
  }
 },
 "nbformat": 4,
 "nbformat_minor": 2
}
